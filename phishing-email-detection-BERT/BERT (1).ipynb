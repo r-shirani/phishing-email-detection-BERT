{
  "nbformat": 4,
  "nbformat_minor": 0,
  "metadata": {
    "colab": {
      "provenance": [],
      "gpuType": "T4"
    },
    "kernelspec": {
      "name": "python3",
      "display_name": "Python 3"
    },
    "language_info": {
      "name": "python"
    },
    "accelerator": "GPU"
  },
  "cells": [
    {
      "cell_type": "markdown",
      "source": [
        "Kaggle دریافت دیتاست از"
      ],
      "metadata": {
        "id": "jGc_wclpYkol"
      }
    },
    {
      "cell_type": "code",
      "source": [
        "from google.colab import files\n",
        "files.upload()  # آپلود فایل kaggle.json"
      ],
      "metadata": {
        "id": "hZkKer98YolS"
      },
      "execution_count": null,
      "outputs": []
    },
    {
      "cell_type": "markdown",
      "source": [
        "انتقال فایل و تنظیم مجوز ها"
      ],
      "metadata": {
        "id": "YQXyjIqcYvCW"
      }
    },
    {
      "cell_type": "code",
      "source": [
        "!mkdir -p ~/.kaggle\n",
        "!cp kaggle.json ~/.kaggle/\n",
        "!chmod 600 ~/.kaggle/kaggle.json"
      ],
      "metadata": {
        "id": "ATgm00xOYxeB"
      },
      "execution_count": null,
      "outputs": []
    },
    {
      "cell_type": "markdown",
      "source": [
        "kaggle نصب و استفاده از ابزار"
      ],
      "metadata": {
        "id": "19Kb8xhnY1L2"
      }
    },
    {
      "cell_type": "code",
      "source": [
        "!pip install kaggle\n",
        "!kaggle datasets download -d naserabdullahalam/phishing-email-dataset\n",
        "!unzip phishing-email-dataset.zip"
      ],
      "metadata": {
        "id": "iYKdxrudY6QO"
      },
      "execution_count": null,
      "outputs": []
    },
    {
      "cell_type": "markdown",
      "source": [
        "---\n"
      ],
      "metadata": {
        "id": "khpbxKKRY-n4"
      }
    },
    {
      "cell_type": "markdown",
      "source": [
        "نصب کتابخانه های مورد نیاز"
      ],
      "metadata": {
        "id": "7vXpaMlNXiAe"
      }
    },
    {
      "cell_type": "code",
      "execution_count": null,
      "metadata": {
        "id": "7g4QRL7FCvVi"
      },
      "outputs": [],
      "source": [
        "\n",
        "!pip install transformers\n",
        "!pip install datasets\n",
        "!pip install scikit-learn\n",
        "!pip install pandas\n",
        "!pip install matplotlib seaborn\n"
      ]
    },
    {
      "cell_type": "markdown",
      "source": [
        "---\n"
      ],
      "metadata": {
        "id": "lh0t_oe5Xqka"
      }
    },
    {
      "cell_type": "markdown",
      "source": [
        "بارگذاری و بررسی داده هاه"
      ],
      "metadata": {
        "id": "jLDNSyNoZwn5"
      }
    },
    {
      "cell_type": "code",
      "source": [
        "import pandas as pd\n",
        "\n",
        "df = pd.read_csv('phishing_email.csv')\n",
        "\n",
        "# نمایش چند سطر ابتدایی\n",
        "df.head()\n"
      ],
      "metadata": {
        "colab": {
          "base_uri": "https://localhost:8080/",
          "height": 206
        },
        "id": "1MILaQbKZzbx",
        "outputId": "ab4c8875-4351-4ba6-93aa-6fab6987e777"
      },
      "execution_count": null,
      "outputs": [
        {
          "output_type": "execute_result",
          "data": {
            "text/plain": [
              "                                       text_combined  label\n",
              "0  hpl nom may 25 2001 see attached file hplno 52...      0\n",
              "1  nom actual vols 24 th forwarded sabrae zajac h...      0\n",
              "2  enron actuals march 30 april 1 201 estimated a...      0\n",
              "3  hpl nom may 30 2001 see attached file hplno 53...      0\n",
              "4  hpl nom june 1 2001 see attached file hplno 60...      0"
            ],
            "text/html": [
              "\n",
              "  <div id=\"df-3209db29-94c5-46d8-96c8-b52eb8fbb3f3\" class=\"colab-df-container\">\n",
              "    <div>\n",
              "<style scoped>\n",
              "    .dataframe tbody tr th:only-of-type {\n",
              "        vertical-align: middle;\n",
              "    }\n",
              "\n",
              "    .dataframe tbody tr th {\n",
              "        vertical-align: top;\n",
              "    }\n",
              "\n",
              "    .dataframe thead th {\n",
              "        text-align: right;\n",
              "    }\n",
              "</style>\n",
              "<table border=\"1\" class=\"dataframe\">\n",
              "  <thead>\n",
              "    <tr style=\"text-align: right;\">\n",
              "      <th></th>\n",
              "      <th>text_combined</th>\n",
              "      <th>label</th>\n",
              "    </tr>\n",
              "  </thead>\n",
              "  <tbody>\n",
              "    <tr>\n",
              "      <th>0</th>\n",
              "      <td>hpl nom may 25 2001 see attached file hplno 52...</td>\n",
              "      <td>0</td>\n",
              "    </tr>\n",
              "    <tr>\n",
              "      <th>1</th>\n",
              "      <td>nom actual vols 24 th forwarded sabrae zajac h...</td>\n",
              "      <td>0</td>\n",
              "    </tr>\n",
              "    <tr>\n",
              "      <th>2</th>\n",
              "      <td>enron actuals march 30 april 1 201 estimated a...</td>\n",
              "      <td>0</td>\n",
              "    </tr>\n",
              "    <tr>\n",
              "      <th>3</th>\n",
              "      <td>hpl nom may 30 2001 see attached file hplno 53...</td>\n",
              "      <td>0</td>\n",
              "    </tr>\n",
              "    <tr>\n",
              "      <th>4</th>\n",
              "      <td>hpl nom june 1 2001 see attached file hplno 60...</td>\n",
              "      <td>0</td>\n",
              "    </tr>\n",
              "  </tbody>\n",
              "</table>\n",
              "</div>\n",
              "    <div class=\"colab-df-buttons\">\n",
              "\n",
              "  <div class=\"colab-df-container\">\n",
              "    <button class=\"colab-df-convert\" onclick=\"convertToInteractive('df-3209db29-94c5-46d8-96c8-b52eb8fbb3f3')\"\n",
              "            title=\"Convert this dataframe to an interactive table.\"\n",
              "            style=\"display:none;\">\n",
              "\n",
              "  <svg xmlns=\"http://www.w3.org/2000/svg\" height=\"24px\" viewBox=\"0 -960 960 960\">\n",
              "    <path d=\"M120-120v-720h720v720H120Zm60-500h600v-160H180v160Zm220 220h160v-160H400v160Zm0 220h160v-160H400v160ZM180-400h160v-160H180v160Zm440 0h160v-160H620v160ZM180-180h160v-160H180v160Zm440 0h160v-160H620v160Z\"/>\n",
              "  </svg>\n",
              "    </button>\n",
              "\n",
              "  <style>\n",
              "    .colab-df-container {\n",
              "      display:flex;\n",
              "      gap: 12px;\n",
              "    }\n",
              "\n",
              "    .colab-df-convert {\n",
              "      background-color: #E8F0FE;\n",
              "      border: none;\n",
              "      border-radius: 50%;\n",
              "      cursor: pointer;\n",
              "      display: none;\n",
              "      fill: #1967D2;\n",
              "      height: 32px;\n",
              "      padding: 0 0 0 0;\n",
              "      width: 32px;\n",
              "    }\n",
              "\n",
              "    .colab-df-convert:hover {\n",
              "      background-color: #E2EBFA;\n",
              "      box-shadow: 0px 1px 2px rgba(60, 64, 67, 0.3), 0px 1px 3px 1px rgba(60, 64, 67, 0.15);\n",
              "      fill: #174EA6;\n",
              "    }\n",
              "\n",
              "    .colab-df-buttons div {\n",
              "      margin-bottom: 4px;\n",
              "    }\n",
              "\n",
              "    [theme=dark] .colab-df-convert {\n",
              "      background-color: #3B4455;\n",
              "      fill: #D2E3FC;\n",
              "    }\n",
              "\n",
              "    [theme=dark] .colab-df-convert:hover {\n",
              "      background-color: #434B5C;\n",
              "      box-shadow: 0px 1px 3px 1px rgba(0, 0, 0, 0.15);\n",
              "      filter: drop-shadow(0px 1px 2px rgba(0, 0, 0, 0.3));\n",
              "      fill: #FFFFFF;\n",
              "    }\n",
              "  </style>\n",
              "\n",
              "    <script>\n",
              "      const buttonEl =\n",
              "        document.querySelector('#df-3209db29-94c5-46d8-96c8-b52eb8fbb3f3 button.colab-df-convert');\n",
              "      buttonEl.style.display =\n",
              "        google.colab.kernel.accessAllowed ? 'block' : 'none';\n",
              "\n",
              "      async function convertToInteractive(key) {\n",
              "        const element = document.querySelector('#df-3209db29-94c5-46d8-96c8-b52eb8fbb3f3');\n",
              "        const dataTable =\n",
              "          await google.colab.kernel.invokeFunction('convertToInteractive',\n",
              "                                                    [key], {});\n",
              "        if (!dataTable) return;\n",
              "\n",
              "        const docLinkHtml = 'Like what you see? Visit the ' +\n",
              "          '<a target=\"_blank\" href=https://colab.research.google.com/notebooks/data_table.ipynb>data table notebook</a>'\n",
              "          + ' to learn more about interactive tables.';\n",
              "        element.innerHTML = '';\n",
              "        dataTable['output_type'] = 'display_data';\n",
              "        await google.colab.output.renderOutput(dataTable, element);\n",
              "        const docLink = document.createElement('div');\n",
              "        docLink.innerHTML = docLinkHtml;\n",
              "        element.appendChild(docLink);\n",
              "      }\n",
              "    </script>\n",
              "  </div>\n",
              "\n",
              "\n",
              "    <div id=\"df-e9e28d23-733d-495a-aa86-ad18324327ad\">\n",
              "      <button class=\"colab-df-quickchart\" onclick=\"quickchart('df-e9e28d23-733d-495a-aa86-ad18324327ad')\"\n",
              "                title=\"Suggest charts\"\n",
              "                style=\"display:none;\">\n",
              "\n",
              "<svg xmlns=\"http://www.w3.org/2000/svg\" height=\"24px\"viewBox=\"0 0 24 24\"\n",
              "     width=\"24px\">\n",
              "    <g>\n",
              "        <path d=\"M19 3H5c-1.1 0-2 .9-2 2v14c0 1.1.9 2 2 2h14c1.1 0 2-.9 2-2V5c0-1.1-.9-2-2-2zM9 17H7v-7h2v7zm4 0h-2V7h2v10zm4 0h-2v-4h2v4z\"/>\n",
              "    </g>\n",
              "</svg>\n",
              "      </button>\n",
              "\n",
              "<style>\n",
              "  .colab-df-quickchart {\n",
              "      --bg-color: #E8F0FE;\n",
              "      --fill-color: #1967D2;\n",
              "      --hover-bg-color: #E2EBFA;\n",
              "      --hover-fill-color: #174EA6;\n",
              "      --disabled-fill-color: #AAA;\n",
              "      --disabled-bg-color: #DDD;\n",
              "  }\n",
              "\n",
              "  [theme=dark] .colab-df-quickchart {\n",
              "      --bg-color: #3B4455;\n",
              "      --fill-color: #D2E3FC;\n",
              "      --hover-bg-color: #434B5C;\n",
              "      --hover-fill-color: #FFFFFF;\n",
              "      --disabled-bg-color: #3B4455;\n",
              "      --disabled-fill-color: #666;\n",
              "  }\n",
              "\n",
              "  .colab-df-quickchart {\n",
              "    background-color: var(--bg-color);\n",
              "    border: none;\n",
              "    border-radius: 50%;\n",
              "    cursor: pointer;\n",
              "    display: none;\n",
              "    fill: var(--fill-color);\n",
              "    height: 32px;\n",
              "    padding: 0;\n",
              "    width: 32px;\n",
              "  }\n",
              "\n",
              "  .colab-df-quickchart:hover {\n",
              "    background-color: var(--hover-bg-color);\n",
              "    box-shadow: 0 1px 2px rgba(60, 64, 67, 0.3), 0 1px 3px 1px rgba(60, 64, 67, 0.15);\n",
              "    fill: var(--button-hover-fill-color);\n",
              "  }\n",
              "\n",
              "  .colab-df-quickchart-complete:disabled,\n",
              "  .colab-df-quickchart-complete:disabled:hover {\n",
              "    background-color: var(--disabled-bg-color);\n",
              "    fill: var(--disabled-fill-color);\n",
              "    box-shadow: none;\n",
              "  }\n",
              "\n",
              "  .colab-df-spinner {\n",
              "    border: 2px solid var(--fill-color);\n",
              "    border-color: transparent;\n",
              "    border-bottom-color: var(--fill-color);\n",
              "    animation:\n",
              "      spin 1s steps(1) infinite;\n",
              "  }\n",
              "\n",
              "  @keyframes spin {\n",
              "    0% {\n",
              "      border-color: transparent;\n",
              "      border-bottom-color: var(--fill-color);\n",
              "      border-left-color: var(--fill-color);\n",
              "    }\n",
              "    20% {\n",
              "      border-color: transparent;\n",
              "      border-left-color: var(--fill-color);\n",
              "      border-top-color: var(--fill-color);\n",
              "    }\n",
              "    30% {\n",
              "      border-color: transparent;\n",
              "      border-left-color: var(--fill-color);\n",
              "      border-top-color: var(--fill-color);\n",
              "      border-right-color: var(--fill-color);\n",
              "    }\n",
              "    40% {\n",
              "      border-color: transparent;\n",
              "      border-right-color: var(--fill-color);\n",
              "      border-top-color: var(--fill-color);\n",
              "    }\n",
              "    60% {\n",
              "      border-color: transparent;\n",
              "      border-right-color: var(--fill-color);\n",
              "    }\n",
              "    80% {\n",
              "      border-color: transparent;\n",
              "      border-right-color: var(--fill-color);\n",
              "      border-bottom-color: var(--fill-color);\n",
              "    }\n",
              "    90% {\n",
              "      border-color: transparent;\n",
              "      border-bottom-color: var(--fill-color);\n",
              "    }\n",
              "  }\n",
              "</style>\n",
              "\n",
              "      <script>\n",
              "        async function quickchart(key) {\n",
              "          const quickchartButtonEl =\n",
              "            document.querySelector('#' + key + ' button');\n",
              "          quickchartButtonEl.disabled = true;  // To prevent multiple clicks.\n",
              "          quickchartButtonEl.classList.add('colab-df-spinner');\n",
              "          try {\n",
              "            const charts = await google.colab.kernel.invokeFunction(\n",
              "                'suggestCharts', [key], {});\n",
              "          } catch (error) {\n",
              "            console.error('Error during call to suggestCharts:', error);\n",
              "          }\n",
              "          quickchartButtonEl.classList.remove('colab-df-spinner');\n",
              "          quickchartButtonEl.classList.add('colab-df-quickchart-complete');\n",
              "        }\n",
              "        (() => {\n",
              "          let quickchartButtonEl =\n",
              "            document.querySelector('#df-e9e28d23-733d-495a-aa86-ad18324327ad button');\n",
              "          quickchartButtonEl.style.display =\n",
              "            google.colab.kernel.accessAllowed ? 'block' : 'none';\n",
              "        })();\n",
              "      </script>\n",
              "    </div>\n",
              "\n",
              "    </div>\n",
              "  </div>\n"
            ],
            "application/vnd.google.colaboratory.intrinsic+json": {
              "type": "dataframe",
              "variable_name": "df",
              "summary": "{\n  \"name\": \"df\",\n  \"rows\": 82486,\n  \"fields\": [\n    {\n      \"column\": \"text_combined\",\n      \"properties\": {\n        \"dtype\": \"string\",\n        \"num_unique_values\": 82078,\n        \"samples\": [\n          \"garp 2001 convention invitation speak invitation speak garp 2001 2 nd annual risk management convention 13 th 14 th february 2001 marriott world trade center new york dear kaminski telephone conversation today secretary shirley crenshaw behalf global association risk professionals great pleasure inviting speak 2 nd annual risk management convention garp 2001 event rapidly establishing risk management industry important meeting point garp 2000 reflected key concerns risk management experts world wide 400 attendees first year three simultaneous streams address traditional pricing risk management techniques along specialised streams addressing new sectors corporate world insurance industry speaker panel 55 senior executive financial professionals investment banks regulatory bodies asset management firms academics insurers insurers corporate system providers financial risk management event year key areas convention consider include market risk stress testing liquidity jump diffusion evt credit risk regulation modeling stress testing credit portfolio management credit derivatives operational risk regulation data modeling validation evt advanced asset liability management corporate energy risk management insurance capital markets research discussions experts arena name highly recommended speaker event stream corporate energy risk management mind one sessions also topic titles provisional open suggested alterations corporate energy risk management modelling corporate risk risk management shareholder value perspective measuring energy risk tackling price volatility adapting var scenario modelling regulatory requirements forward pricing construction forward curve correlations transparency issues volatility challenge modelling price volatility examining new products designed stabilise volatility energy credit risk management garp profit independent organisation risk management practitioners researchers leading financial institutions world wide garp mission facilitate exchange information developing educational programs promoting standards area financial risk management information please refer web site www garp com sincerely hope able accept invitation look forward hearing due course questions please hesitate contact otherwise call discuss best regards andreas ps also attached copy garps 2000 program attention _ _ _ _ _ _ _ _ _ _ _ _ _ _ _ _ _ _ _ _ _ _ _ _ _ _ _ _ andreas simou garp 2001 conference producer tel 44 0 20 7626 9301 fax 44 0 20 7626 9900 draft programme doc g 2000 b wlowr pdf\",\n          \"fly macromedia xp pro sp 2 adobe photoshop ms office 2 oo 3 acrobat norton raise find companion profession parents drew popular softwwares start 20 vf windows xp pro sp 2 microsoft office 2003 system pro 5 cds adobe photoshop cs 8 0 ogt adobe acrobat 7 0 professional autocad 2005 dmd symantec norton systemworks dvdxcopy platinum 4 0 38 quickbooks 2004 premier edition macromedia studio mx 2004 microsoft office system professional 2003 norton antivirus 2005 adobe pagemaker 7 01 beingpromised order ur softwares different turning steps already development disappoint mentioned slow raise tying least make back find\",\n          \"mr kala kabila kkkabila2003yahoocom kalla kabila johannesburg south africa dear sir know surprise receive lette letter request family dare need asistance kalla kabila democratic republic congo drc son mrs mercy kabila youngest wife late president laurent kabila murdered recently got name address business desk chamber commerce industry johannesburg behalf widowed mother mrs mercy kabila decided solicit assistance president laurent kabila got married mother widow currently residing johannesburg south africa child woman death willed us certain portion wealth including amount fund due love mother fund us24m twenty four million united states dollars deposited box one well rec ognized security company south africa valuables instructed us solicit assistance reliable sincere foreign partner assist us transfer money south africa investment purposes fortunately enough mother late president people aware moreover box deposited name claim alone deposited secret code mother still documents therefore need assistance transferring huge sum ofus24m twenty four million united states dollars inherited late father personal companys account please bear mind entire life future mother depend fund grateful assist us live south africa asylum seekers due circumstances behind fund family crisis invest money south africa fo r effort prepared offer 20 total su whi le 10 set aside expenses incurred transaction please note transaction 100 risk free major thing demand assurance safety money finally gets information arrangement commence soon trust confidence good relationship established shall grateful maintain confidentiality matter please confirm interest via email address dont forget drop phone fax number easeir communication best regards kalla kabila tue 20 apr 2004 140312 0400 need help\"\n        ],\n        \"semantic_type\": \"\",\n        \"description\": \"\"\n      }\n    },\n    {\n      \"column\": \"label\",\n      \"properties\": {\n        \"dtype\": \"number\",\n        \"std\": 0,\n        \"min\": 0,\n        \"max\": 1,\n        \"num_unique_values\": 2,\n        \"samples\": [\n          1,\n          0\n        ],\n        \"semantic_type\": \"\",\n        \"description\": \"\"\n      }\n    }\n  ]\n}"
            }
          },
          "metadata": {},
          "execution_count": 5
        }
      ]
    },
    {
      "cell_type": "markdown",
      "source": [
        "بررسی ستون ها و توزیع برچسب ها"
      ],
      "metadata": {
        "id": "F54fqIyOZ6SQ"
      }
    },
    {
      "cell_type": "code",
      "source": [
        "# نمایش اطلاعات دیتافریم\n",
        "df.info()\n",
        "\n",
        "# بررسی توزیع برچسب‌ها\n",
        "df['label'].value_counts()\n"
      ],
      "metadata": {
        "colab": {
          "base_uri": "https://localhost:8080/",
          "height": 334
        },
        "id": "Hl910nR_aA5_",
        "outputId": "5dd62acf-1171-4a7e-d2e9-039f43d78ae7"
      },
      "execution_count": null,
      "outputs": [
        {
          "output_type": "stream",
          "name": "stdout",
          "text": [
            "<class 'pandas.core.frame.DataFrame'>\n",
            "RangeIndex: 82486 entries, 0 to 82485\n",
            "Data columns (total 2 columns):\n",
            " #   Column         Non-Null Count  Dtype \n",
            "---  ------         --------------  ----- \n",
            " 0   text_combined  82486 non-null  object\n",
            " 1   label          82486 non-null  int64 \n",
            "dtypes: int64(1), object(1)\n",
            "memory usage: 1.3+ MB\n"
          ]
        },
        {
          "output_type": "execute_result",
          "data": {
            "text/plain": [
              "label\n",
              "1    42891\n",
              "0    39595\n",
              "Name: count, dtype: int64"
            ],
            "text/html": [
              "<div>\n",
              "<style scoped>\n",
              "    .dataframe tbody tr th:only-of-type {\n",
              "        vertical-align: middle;\n",
              "    }\n",
              "\n",
              "    .dataframe tbody tr th {\n",
              "        vertical-align: top;\n",
              "    }\n",
              "\n",
              "    .dataframe thead th {\n",
              "        text-align: right;\n",
              "    }\n",
              "</style>\n",
              "<table border=\"1\" class=\"dataframe\">\n",
              "  <thead>\n",
              "    <tr style=\"text-align: right;\">\n",
              "      <th></th>\n",
              "      <th>count</th>\n",
              "    </tr>\n",
              "    <tr>\n",
              "      <th>label</th>\n",
              "      <th></th>\n",
              "    </tr>\n",
              "  </thead>\n",
              "  <tbody>\n",
              "    <tr>\n",
              "      <th>1</th>\n",
              "      <td>42891</td>\n",
              "    </tr>\n",
              "    <tr>\n",
              "      <th>0</th>\n",
              "      <td>39595</td>\n",
              "    </tr>\n",
              "  </tbody>\n",
              "</table>\n",
              "</div><br><label><b>dtype:</b> int64</label>"
            ]
          },
          "metadata": {},
          "execution_count": 6
        }
      ]
    },
    {
      "cell_type": "markdown",
      "source": [
        "---\n"
      ],
      "metadata": {
        "id": "Q4FEwyk6aFFi"
      }
    },
    {
      "cell_type": "markdown",
      "source": [
        "پیش پردازش داده ها"
      ],
      "metadata": {
        "id": "TjG296ncaGE_"
      }
    },
    {
      "cell_type": "code",
      "source": [
        "import pandas as pd\n",
        "\n",
        "df = pd.read_csv('CEAS_08.csv')\n",
        "texts = df['body']\n",
        "labels = df['label']  # یا هر ستون مرتبط با برچسب‌ها\n",
        "\n",
        "from sklearn.model_selection import train_test_split\n",
        "train_texts, val_texts, train_labels, val_labels = train_test_split(texts, labels, test_size=0.2, shuffle=True, random_state=42)\n",
        "\n",
        "train_labels = train_labels.tolist()\n",
        "val_labels = val_labels.tolist()\n",
        "train_texts = train_texts.tolist()\n",
        "val_texts = val_texts.tolist()"
      ],
      "metadata": {
        "id": "LapHqYiAaIbe"
      },
      "execution_count": null,
      "outputs": []
    },
    {
      "cell_type": "markdown",
      "source": [
        "---\n"
      ],
      "metadata": {
        "id": "WQr-TqFnapN5"
      }
    },
    {
      "cell_type": "markdown",
      "source": [
        "توکنایز کردن متن‌ها با BERT"
      ],
      "metadata": {
        "id": "Gb6yelPcaqE0"
      }
    },
    {
      "cell_type": "code",
      "source": [
        "from transformers import BertTokenizer\n",
        "\n",
        "tokenizer = BertTokenizer.from_pretrained('bert-base-uncased')\n",
        "encodings = tokenizer(train_texts, truncation=True, padding=True, max_length=128)"
      ],
      "metadata": {
        "id": "z6g2gWEZaq0W"
      },
      "execution_count": null,
      "outputs": []
    },
    {
      "cell_type": "markdown",
      "source": [
        "---\n"
      ],
      "metadata": {
        "id": "aG86QzWdasly"
      }
    },
    {
      "cell_type": "markdown",
      "source": [
        "ساخت دیتاست سفارشی PyTorch"
      ],
      "metadata": {
        "id": "NeKyCTfzatpR"
      }
    },
    {
      "cell_type": "code",
      "source": [
        "import torch\n",
        "\n",
        "class TextDataset(torch.utils.data.Dataset):\n",
        "    def __init__(self, encodings, labels):\n",
        "        self.encodings = encodings\n",
        "        self.labels = labels\n",
        "\n",
        "    def __len__(self):\n",
        "        return len(self.labels)\n",
        "\n",
        "    def __getitem__(self, idx):\n",
        "        item = {key: torch.tensor(val[idx]) for key, val in self.encodings.items()}\n",
        "        item['labels'] = torch.tensor(self.labels[idx])\n",
        "        return item"
      ],
      "metadata": {
        "id": "eEF6UyCYaxmo"
      },
      "execution_count": null,
      "outputs": []
    },
    {
      "cell_type": "markdown",
      "source": [
        "---\n"
      ],
      "metadata": {
        "id": "Ejf4KY7Ba07p"
      }
    },
    {
      "cell_type": "markdown",
      "source": [
        "BERT آماده سازی مدل"
      ],
      "metadata": {
        "id": "Xg1vHRlQa2DI"
      }
    },
    {
      "cell_type": "code",
      "source": [
        "from torch.utils.data import DataLoader\n",
        "from sklearn.preprocessing import LabelEncoder\n",
        "\n",
        "label_encoder = LabelEncoder()\n",
        "train_labels = label_encoder.fit_transform(train_labels)\n",
        "val_labels = label_encoder.transform(val_labels)\n",
        "\n",
        "train_dataset = TextDataset(encodings, train_labels)\n",
        "dataloader = DataLoader(train_dataset, batch_size=4, shuffle=True)\n",
        "\n",
        "#from transformers import BertForSequenceClassification, AdamW\n",
        "from torch.optim import AdamW\n",
        "\n",
        "num_labels = len(label_encoder.classes_)\n",
        "model = BertForSequenceClassification.from_pretrained('bert-base-uncased', num_labels=num_labels)\n",
        "optimizer = AdamW(model.parameters(), lr=5e-5)\n",
        "\n",
        "device = torch.device('cuda') if torch.cuda.is_available() else torch.device('cpu')\n",
        "model.to(device)"
      ],
      "metadata": {
        "id": "CBe87Qdva6v9"
      },
      "execution_count": null,
      "outputs": []
    },
    {
      "cell_type": "markdown",
      "source": [
        "---\n"
      ],
      "metadata": {
        "id": "SFK8AC_ra7qG"
      }
    },
    {
      "cell_type": "markdown",
      "source": [
        "آموزش مدل"
      ],
      "metadata": {
        "id": "mqDzylICa9BB"
      }
    },
    {
      "cell_type": "code",
      "source": [
        "from transformers import get_linear_schedule_with_warmup\n",
        "from tqdm import tqdm\n",
        "\n",
        "epochs = 5\n",
        "total_steps = len(dataloader) * epochs\n",
        "scheduler = get_linear_schedule_with_warmup(optimizer, num_warmup_steps=0, num_training_steps=total_steps)\n",
        "\n",
        "for epoch in range(epochs):\n",
        "    model.train()\n",
        "    for batch in tqdm(dataloader):\n",
        "        optimizer.zero_grad()\n",
        "\n",
        "        input_ids = batch['input_ids'].to(device)\n",
        "        attention_mask = batch['attention_mask'].to(device)\n",
        "        labels = batch['labels'].to(device)\n",
        "\n",
        "        outputs = model(input_ids, attention_mask=attention_mask, labels=labels)\n",
        "        loss = outputs.loss\n",
        "        loss.backward()\n",
        "\n",
        "        optimizer.step()\n",
        "        scheduler.step()\n",
        "    print(f'Epoch {epoch + 1}/{epochs} completed.')"
      ],
      "metadata": {
        "colab": {
          "base_uri": "https://localhost:8080/"
        },
        "id": "bG_Mf5wBbAC2",
        "outputId": "ac8290d0-24df-477d-c2ad-abf16c2dd723"
      },
      "execution_count": null,
      "outputs": [
        {
          "output_type": "stream",
          "name": "stderr",
          "text": [
            "100%|██████████| 7831/7831 [14:53<00:00,  8.76it/s]\n"
          ]
        },
        {
          "output_type": "stream",
          "name": "stdout",
          "text": [
            "Epoch 1/5 completed.\n"
          ]
        },
        {
          "output_type": "stream",
          "name": "stderr",
          "text": [
            "100%|██████████| 7831/7831 [14:57<00:00,  8.73it/s]\n"
          ]
        },
        {
          "output_type": "stream",
          "name": "stdout",
          "text": [
            "Epoch 2/5 completed.\n"
          ]
        },
        {
          "output_type": "stream",
          "name": "stderr",
          "text": [
            "100%|██████████| 7831/7831 [14:57<00:00,  8.73it/s]\n"
          ]
        },
        {
          "output_type": "stream",
          "name": "stdout",
          "text": [
            "Epoch 3/5 completed.\n"
          ]
        },
        {
          "output_type": "stream",
          "name": "stderr",
          "text": [
            "100%|██████████| 7831/7831 [14:57<00:00,  8.73it/s]\n"
          ]
        },
        {
          "output_type": "stream",
          "name": "stdout",
          "text": [
            "Epoch 4/5 completed.\n"
          ]
        },
        {
          "output_type": "stream",
          "name": "stderr",
          "text": [
            "100%|██████████| 7831/7831 [14:56<00:00,  8.73it/s]"
          ]
        },
        {
          "output_type": "stream",
          "name": "stdout",
          "text": [
            "Epoch 5/5 completed.\n"
          ]
        },
        {
          "output_type": "stream",
          "name": "stderr",
          "text": [
            "\n"
          ]
        }
      ]
    },
    {
      "cell_type": "markdown",
      "source": [
        "---\n"
      ],
      "metadata": {
        "id": "B4AxLLevbAvQ"
      }
    },
    {
      "cell_type": "markdown",
      "source": [
        "ارزیابی مدل"
      ],
      "metadata": {
        "id": "WVNuWRhUbDdl"
      }
    },
    {
      "cell_type": "code",
      "source": [
        "from sklearn.metrics import accuracy_score, precision_score, recall_score, f1_score\n",
        "\n",
        "val_encodings = tokenizer(val_texts, truncation=True, padding=True, max_length=128)\n",
        "val_dataset = TextDataset(val_encodings, val_labels)\n",
        "val_loader = DataLoader(val_dataset, batch_size=16, shuffle=False)\n",
        "\n",
        "predictions = []\n",
        "true_labels = []\n",
        "\n",
        "with torch.no_grad():\n",
        "    for batch in val_loader:\n",
        "        input_ids = batch['input_ids'].to(device)\n",
        "        attention_mask = batch['attention_mask'].to(device)\n",
        "        labels = batch['labels'].to(device)\n",
        "\n",
        "        outputs = model(input_ids, attention_mask=attention_mask)\n",
        "        logits = outputs.logits\n",
        "        preds = torch.argmax(logits, dim=1).cpu().numpy()\n",
        "        labels = labels.cpu().numpy()\n",
        "\n",
        "        predictions.extend(preds)\n",
        "        true_labels.extend(labels)\n",
        "\n",
        "predicted_labels = label_encoder.inverse_transform(predictions)\n",
        "true_labels_str = label_encoder.inverse_transform(true_labels)\n",
        "\n",
        "accuracy = accuracy_score(true_labels_str, predicted_labels)\n",
        "precision = precision_score(true_labels_str, predicted_labels, average='weighted')\n",
        "recall = recall_score(true_labels_str, predicted_labels, average='weighted')\n",
        "f1 = f1_score(true_labels_str, predicted_labels, average='weighted')\n",
        "\n",
        "print(f'Validation Accuracy: {accuracy}')\n",
        "print(f'Validation Precision: {precision}')\n",
        "print(f'Validation Recall: {recall}')\n",
        "print(f'Validation F1 Score: {f1}')"
      ],
      "metadata": {
        "id": "gjsBmjfybEz1",
        "colab": {
          "base_uri": "https://localhost:8080/"
        },
        "outputId": "733141f2-2cf5-4898-f5cc-4441331058f5"
      },
      "execution_count": null,
      "outputs": [
        {
          "output_type": "stream",
          "name": "stdout",
          "text": [
            "Validation Accuracy: 0.9784191035627634\n",
            "Validation Precision: 0.9787303728290941\n",
            "Validation Recall: 0.9784191035627634\n",
            "Validation F1 Score: 0.9783817175643652\n"
          ]
        }
      ]
    },
    {
      "cell_type": "markdown",
      "source": [
        "---\n"
      ],
      "metadata": {
        "id": "oDvxXiGKbFuN"
      }
    },
    {
      "cell_type": "markdown",
      "source": [
        "تابع پیش بینی برای متن جدید"
      ],
      "metadata": {
        "id": "lY6VG4RDbGeX"
      }
    },
    {
      "cell_type": "code",
      "source": [
        "def predict_text(text):\n",
        "    encoding = tokenizer(text, truncation=True, padding=True, max_length=128, return_tensors='pt')\n",
        "\n",
        "    input_ids = encoding['input_ids'].to(device)\n",
        "    attention_mask = encoding['attention_mask'].to(device)\n",
        "    with torch.no_grad():\n",
        "        outputs = model(input_ids, attention_mask=attention_mask)\n",
        "        logits = outputs.logits\n",
        "        predicted_class_id = torch.argmax(logits, dim=1).cpu().numpy()[0]\n",
        "\n",
        "    predicted_label = label_encoder.inverse_transform([predicted_class_id])[0]\n",
        "    return predicted_label"
      ],
      "metadata": {
        "id": "HeeIuraFbKja"
      },
      "execution_count": null,
      "outputs": []
    },
    {
      "cell_type": "markdown",
      "source": [
        "---\n"
      ],
      "metadata": {
        "id": "i-urRZab89pP"
      }
    },
    {
      "cell_type": "markdown",
      "source": [
        "تست پیش بیینی روی چند ایمیل دلخواه"
      ],
      "metadata": {
        "id": "kc_CgLQRHuVo"
      }
    },
    {
      "cell_type": "code",
      "source": [
        "test_emails = [\n",
        "    \"We've noticed unusual activity in your account. Please verify your identity immediately.\",\n",
        "    \"Lunch is scheduled for 1 PM today in the cafeteria. Don’t be late!\"\n",
        "]\n",
        "for email in test_emails:\n",
        "    print(f\"📨 Email: {email}\")\n",
        "    print(f\"🔍 Prediction: {predict_text(email)}\\n\")"
      ],
      "metadata": {
        "colab": {
          "base_uri": "https://localhost:8080/"
        },
        "id": "7VcFjrvlHx2s",
        "outputId": "7df996ae-1659-4437-823e-cc36ef792514"
      },
      "execution_count": null,
      "outputs": [
        {
          "output_type": "stream",
          "name": "stdout",
          "text": [
            "📨 Email: We've noticed unusual activity in your account. Please verify your identity immediately.\n",
            "🔍 Prediction: 1\n",
            "\n",
            "📨 Email: Lunch is scheduled for 1 PM today in the cafeteria. Don’t be late!\n",
            "🔍 Prediction: 1\n",
            "\n"
          ]
        }
      ]
    }
  ]
}